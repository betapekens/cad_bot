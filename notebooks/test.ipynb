{
 "cells": [
  {
   "cell_type": "code",
   "execution_count": 1,
   "metadata": {},
   "outputs": [],
   "source": [
    "import cadquery as cq "
   ]
  },
  {
   "cell_type": "code",
   "execution_count": 2,
   "metadata": {},
   "outputs": [],
   "source": [
    "obj = cq.Workplane(\"XY\").box(60, 60, 5)"
   ]
  },
  {
   "cell_type": "code",
   "execution_count": 3,
   "metadata": {},
   "outputs": [],
   "source": [
    "cq.exporters.export(obj, \"file.step\")"
   ]
  },
  {
   "cell_type": "code",
   "execution_count": 11,
   "metadata": {},
   "outputs": [
    {
     "name": "stdout",
     "output_type": "stream",
     "text": [
      "Name: cadquery\n",
      "Version: 2.3.1\n",
      "Summary: CadQuery is a parametric  scripting language for creating and traversing CAD models\n",
      "Home-page: https://github.com/CadQuery/cadquery\n",
      "Author: David Cowden\n",
      "Author-email: dave.cowden@gmail.com\n",
      "License: Apache Public License 2.0\n",
      "Location: c:\\users\\wf6475\\onedrive - engie\\desktop\\cad_gpt\\venv\\lib\\site-packages\n",
      "Requires: path, typish, cadquery-ocp, casadi, nptyping, multimethod, nlopt, ezdxf\n",
      "Required-by: cq-gears\n",
      "Note: you may need to restart the kernel to use updated packages.\n"
     ]
    }
   ],
   "source": [
    "pip show cadquery"
   ]
  },
  {
   "cell_type": "code",
   "execution_count": null,
   "metadata": {},
   "outputs": [],
   "source": []
  }
 ],
 "metadata": {
  "kernelspec": {
   "display_name": "venv",
   "language": "python",
   "name": "python3"
  },
  "language_info": {
   "codemirror_mode": {
    "name": "ipython",
    "version": 3
   },
   "file_extension": ".py",
   "mimetype": "text/x-python",
   "name": "python",
   "nbconvert_exporter": "python",
   "pygments_lexer": "ipython3",
   "version": "3.10.0"
  }
 },
 "nbformat": 4,
 "nbformat_minor": 2
}
